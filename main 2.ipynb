{
 "cells": [
  {
   "cell_type": "code",
   "execution_count": 1,
   "id": "1c709b33",
   "metadata": {
    "scrolled": true
   },
   "outputs": [],
   "source": [
    "import torch\n",
    "from torch import nn\n",
    "from torch import optim\n",
    "import numpy as np\n",
    "import matplotlib.pyplot as plt\n",
    "import pandas as pd\n",
    "from sklearn.model_selection import train_test_split\n",
    "from sklearn.metrics import accuracy_score\n",
    "from torchtext.data.utils import get_tokenizer\n",
    "from torchtext.vocab import build_vocab_from_iterator\n",
    "from torch.utils.data import DataLoader, Dataset"
   ]
  },
  {
   "cell_type": "code",
   "execution_count": 2,
   "id": "db7623af",
   "metadata": {},
   "outputs": [],
   "source": [
    "device = torch.device(\"cuda\" if torch.cuda.is_available() else \"cpu\")"
   ]
  },
  {
   "cell_type": "code",
   "execution_count": 3,
   "id": "b4c31c2e",
   "metadata": {},
   "outputs": [],
   "source": [
    "np.random.seed(42)"
   ]
  },
  {
   "cell_type": "code",
   "execution_count": 4,
   "id": "f6ff9902",
   "metadata": {},
   "outputs": [],
   "source": [
    "DATA_PATH = \"tripadvisor_hotel_reviews.csv\""
   ]
  },
  {
   "cell_type": "code",
   "execution_count": 5,
   "id": "ae8df871",
   "metadata": {},
   "outputs": [
    {
     "data": {
      "text/html": [
       "<div>\n",
       "<style scoped>\n",
       "    .dataframe tbody tr th:only-of-type {\n",
       "        vertical-align: middle;\n",
       "    }\n",
       "\n",
       "    .dataframe tbody tr th {\n",
       "        vertical-align: top;\n",
       "    }\n",
       "\n",
       "    .dataframe thead th {\n",
       "        text-align: right;\n",
       "    }\n",
       "</style>\n",
       "<table border=\"1\" class=\"dataframe\">\n",
       "  <thead>\n",
       "    <tr style=\"text-align: right;\">\n",
       "      <th></th>\n",
       "      <th>Review</th>\n",
       "      <th>Rating</th>\n",
       "    </tr>\n",
       "  </thead>\n",
       "  <tbody>\n",
       "    <tr>\n",
       "      <th>0</th>\n",
       "      <td>nice hotel expensive parking got good deal sta...</td>\n",
       "      <td>4</td>\n",
       "    </tr>\n",
       "    <tr>\n",
       "      <th>1</th>\n",
       "      <td>ok nothing special charge diamond member hilto...</td>\n",
       "      <td>2</td>\n",
       "    </tr>\n",
       "    <tr>\n",
       "      <th>2</th>\n",
       "      <td>nice rooms not 4* experience hotel monaco seat...</td>\n",
       "      <td>3</td>\n",
       "    </tr>\n",
       "    <tr>\n",
       "      <th>3</th>\n",
       "      <td>unique, great stay, wonderful time hotel monac...</td>\n",
       "      <td>5</td>\n",
       "    </tr>\n",
       "    <tr>\n",
       "      <th>4</th>\n",
       "      <td>great stay great stay, went seahawk game aweso...</td>\n",
       "      <td>5</td>\n",
       "    </tr>\n",
       "  </tbody>\n",
       "</table>\n",
       "</div>"
      ],
      "text/plain": [
       "                                              Review  Rating\n",
       "0  nice hotel expensive parking got good deal sta...       4\n",
       "1  ok nothing special charge diamond member hilto...       2\n",
       "2  nice rooms not 4* experience hotel monaco seat...       3\n",
       "3  unique, great stay, wonderful time hotel monac...       5\n",
       "4  great stay great stay, went seahawk game aweso...       5"
      ]
     },
     "execution_count": 5,
     "metadata": {},
     "output_type": "execute_result"
    }
   ],
   "source": [
    "df = pd.read_csv(DATA_PATH)\n",
    "df.head()"
   ]
  },
  {
   "cell_type": "code",
   "execution_count": 6,
   "id": "4a67093c",
   "metadata": {},
   "outputs": [
    {
     "name": "stderr",
     "output_type": "stream",
     "text": [
      "C:\\Users\\LEGION\\AppData\\Local\\Temp\\ipykernel_16416\\3095696562.py:3: SettingWithCopyWarning: \n",
      "A value is trying to be set on a copy of a slice from a DataFrame\n",
      "\n",
      "See the caveats in the documentation: https://pandas.pydata.org/pandas-docs/stable/user_guide/indexing.html#returning-a-view-versus-a-copy\n",
      "  df[\"Sentiment\"].loc[df[\"Rating\"] < neutral_range[\"low\"]] = \"negative\"\n",
      "C:\\Users\\LEGION\\AppData\\Local\\Temp\\ipykernel_16416\\3095696562.py:4: SettingWithCopyWarning: \n",
      "A value is trying to be set on a copy of a slice from a DataFrame\n",
      "\n",
      "See the caveats in the documentation: https://pandas.pydata.org/pandas-docs/stable/user_guide/indexing.html#returning-a-view-versus-a-copy\n",
      "  df[\"Sentiment\"].loc[df[\"Rating\"] >= neutral_range[\"high\"]] = \"positive\"\n"
     ]
    },
    {
     "data": {
      "text/html": [
       "<div>\n",
       "<style scoped>\n",
       "    .dataframe tbody tr th:only-of-type {\n",
       "        vertical-align: middle;\n",
       "    }\n",
       "\n",
       "    .dataframe tbody tr th {\n",
       "        vertical-align: top;\n",
       "    }\n",
       "\n",
       "    .dataframe thead th {\n",
       "        text-align: right;\n",
       "    }\n",
       "</style>\n",
       "<table border=\"1\" class=\"dataframe\">\n",
       "  <thead>\n",
       "    <tr style=\"text-align: right;\">\n",
       "      <th></th>\n",
       "      <th>Review</th>\n",
       "      <th>Rating</th>\n",
       "      <th>Sentiment</th>\n",
       "    </tr>\n",
       "  </thead>\n",
       "  <tbody>\n",
       "    <tr>\n",
       "      <th>0</th>\n",
       "      <td>nice hotel expensive parking got good deal sta...</td>\n",
       "      <td>4</td>\n",
       "      <td>neutral</td>\n",
       "    </tr>\n",
       "    <tr>\n",
       "      <th>1</th>\n",
       "      <td>ok nothing special charge diamond member hilto...</td>\n",
       "      <td>2</td>\n",
       "      <td>negative</td>\n",
       "    </tr>\n",
       "    <tr>\n",
       "      <th>2</th>\n",
       "      <td>nice rooms not 4* experience hotel monaco seat...</td>\n",
       "      <td>3</td>\n",
       "      <td>negative</td>\n",
       "    </tr>\n",
       "    <tr>\n",
       "      <th>3</th>\n",
       "      <td>unique, great stay, wonderful time hotel monac...</td>\n",
       "      <td>5</td>\n",
       "      <td>positive</td>\n",
       "    </tr>\n",
       "    <tr>\n",
       "      <th>4</th>\n",
       "      <td>great stay great stay, went seahawk game aweso...</td>\n",
       "      <td>5</td>\n",
       "      <td>positive</td>\n",
       "    </tr>\n",
       "  </tbody>\n",
       "</table>\n",
       "</div>"
      ],
      "text/plain": [
       "                                              Review  Rating Sentiment\n",
       "0  nice hotel expensive parking got good deal sta...       4   neutral\n",
       "1  ok nothing special charge diamond member hilto...       2  negative\n",
       "2  nice rooms not 4* experience hotel monaco seat...       3  negative\n",
       "3  unique, great stay, wonderful time hotel monac...       5  positive\n",
       "4  great stay great stay, went seahawk game aweso...       5  positive"
      ]
     },
     "execution_count": 6,
     "metadata": {},
     "output_type": "execute_result"
    }
   ],
   "source": [
    "neutral_range = {\"low\": 4, \"high\": 5}\n",
    "df[\"Sentiment\"] = \"neutral\"\n",
    "df[\"Sentiment\"].loc[df[\"Rating\"] < neutral_range[\"low\"]] = \"negative\"\n",
    "df[\"Sentiment\"].loc[df[\"Rating\"] >= neutral_range[\"high\"]] = \"positive\"\n",
    "df.head()"
   ]
  },
  {
   "cell_type": "code",
   "execution_count": 13,
   "id": "2bc8406a",
   "metadata": {},
   "outputs": [],
   "source": [
    "X_train, X_test, y_train, y_test = train_test_split(df[\"Review\"], df[\"Sentiment\"], test_size=0.2,\n",
    "                                                                stratify=df[\"Sentiment\"])"
   ]
  },
  {
   "cell_type": "code",
   "execution_count": 14,
   "id": "4a47e1bf",
   "metadata": {},
   "outputs": [],
   "source": [
    "class RandomBaseline:\n",
    "    def __init__(self):\n",
    "        self.categories = {}\n",
    "\n",
    "    def fit(self, data, target_col):\n",
    "        cat_names = data[target_col].unique()\n",
    "        agg = data.groupby(target_col).count()\n",
    "        for n in cat_names:\n",
    "            self.categories[n] = agg.loc[n][0] / len(data)\n",
    "\n",
    "    def predict(self, data):\n",
    "        return np.random.choice(list(self.categories.keys()), len(data), list(self.categories.values()))"
   ]
  },
  {
   "cell_type": "code",
   "execution_count": 15,
   "id": "7edffa0f",
   "metadata": {},
   "outputs": [],
   "source": [
    "rb = RandomBaseline()\n",
    "rb.fit(df.iloc[X_train.index], \"Sentiment\")"
   ]
  },
  {
   "cell_type": "code",
   "execution_count": 17,
   "id": "dbe90c9f",
   "metadata": {},
   "outputs": [
    {
     "data": {
      "text/plain": [
       "0.3266650402537204"
      ]
     },
     "execution_count": 17,
     "metadata": {},
     "output_type": "execute_result"
    }
   ],
   "source": [
    "pred = rb.predict(X_test)\n",
    "accuracy_score(y_test, pred)"
   ]
  },
  {
   "cell_type": "code",
   "execution_count": 18,
   "id": "dbb2f3ce",
   "metadata": {},
   "outputs": [
    {
     "data": {
      "text/plain": [
       "['the', 'place', 'was', 'nice']"
      ]
     },
     "execution_count": 18,
     "metadata": {},
     "output_type": "execute_result"
    }
   ],
   "source": [
    "tokenizer = get_tokenizer('basic_english')\n",
    "tokenizer(\"the place was nice\")"
   ]
  },
  {
   "cell_type": "code",
   "execution_count": 19,
   "id": "f61c173d",
   "metadata": {},
   "outputs": [
    {
     "data": {
      "text/plain": [
       "[32, 31, 3978, 15]"
      ]
     },
     "execution_count": 19,
     "metadata": {},
     "output_type": "execute_result"
    }
   ],
   "source": [
    "def tokenized_review_iterator(reviews):\n",
    "    for r in reviews:\n",
    "        yield tokenizer(r)\n",
    "\n",
    "vocab = build_vocab_from_iterator(tokenized_review_iterator(X_train), specials=[\"<unk>\"])\n",
    "vocab.set_default_index(vocab[\"<unk>\"])\n",
    "vocab(['the', 'place', 'was', 'nice'])"
   ]
  },
  {
   "cell_type": "code",
   "execution_count": 20,
   "id": "46936fda",
   "metadata": {},
   "outputs": [],
   "source": [
    "target_map = {\n",
    "    \"positive\": 0,\n",
    "    \"neutral\": 1,\n",
    "    \"negative\": 2\n",
    "}\n",
    "\n",
    "text_pipeline = lambda x: vocab(tokenizer(x))\n",
    "label_pipeline = lambda x: target_map[x]\n",
    "\n",
    "class ReviewDataset(Dataset):\n",
    "\n",
    "    def __init__(self, X, y, text_pipeline, label_pipeline):\n",
    "        self.X = X\n",
    "        self.y = y\n",
    "        self.text_pipeline = text_pipeline\n",
    "        self.label_pipeline = label_pipeline\n",
    "\n",
    "    def __len__(self):\n",
    "        return len(self.X)\n",
    "\n",
    "    def __getitem__(self, idx):\n",
    "        text = torch.tensor(self.text_pipeline(self.X.iloc[idx]))\n",
    "        length = torch.tensor(len(text))\n",
    "        label = torch.tensor(self.label_pipeline(self.y.iloc[idx]))\n",
    "        return {\"text\": text, \"length\": length, \"labels\": label}\n",
    "\n",
    "train_dataset = ReviewDataset(X_train, y_train, text_pipeline, label_pipeline)\n",
    "test_dataset = ReviewDataset(X_test, y_test, text_pipeline, label_pipeline)"
   ]
  },
  {
   "cell_type": "code",
   "execution_count": 22,
   "id": "0c7476b2",
   "metadata": {},
   "outputs": [],
   "source": [
    "def collate(batch):\n",
    "    batch.sort(key=lambda x: x[\"length\"], reverse=True)\n",
    "    text, lengths, labels = zip(*[d.values() for d in batch])\n",
    "    text = torch.nn.utils.rnn.pad_sequence(text, batch_first=True)\n",
    "    lengths = torch.stack(lengths)\n",
    "    labels = torch.stack(labels)\n",
    "    return text, lengths, labels"
   ]
  },
  {
   "cell_type": "code",
   "execution_count": 23,
   "id": "15946d58",
   "metadata": {},
   "outputs": [],
   "source": [
    "class SentimentLSTM(nn.Module):\n",
    "\n",
    "    def __init__(self, vocab_size, embed_dim, hidden_size, n_layers, num_class):\n",
    "        super(SentimentLSTM, self).__init__()\n",
    "        self.embedding = nn.Embedding(vocab_size, embed_dim, sparse=True)\n",
    "        self.lstm = nn.LSTM(embed_dim, hidden_size, num_layers=n_layers, batch_first=True)\n",
    "        self.drop = nn.Dropout(0.5)\n",
    "        self.batch_norm = nn.BatchNorm1d(n_layers * hidden_size)\n",
    "        self.dense = nn.Linear(n_layers * hidden_size, num_class)\n",
    "\n",
    "    def dense_parameters(self):\n",
    "        return list(self.lstm.parameters()) + list(self.dense.parameters())\n",
    "\n",
    "    def forward(self, encoded_text, lengths):\n",
    "        batch_size = lengths.shape[0]\n",
    "        embedded = self.embedding(encoded_text)\n",
    "        packed_embeded = nn.utils.rnn.pack_padded_sequence(embedded, lengths.cpu(), batch_first=True)\n",
    "        _, (hidden, cell) = self.lstm(packed_embeded)\n",
    "        hidden = hidden.permute([1, 0, 2]).contiguous().view(batch_size, -1)\n",
    "        hidden = self.drop(hidden)\n",
    "        hidden = self.batch_norm(hidden)\n",
    "        hidden = self.dense(hidden)\n",
    "        return hidden"
   ]
  },
  {
   "cell_type": "code",
   "execution_count": 24,
   "id": "5b6abbee",
   "metadata": {},
   "outputs": [],
   "source": [
    "# training parameters\n",
    "n_epoch = 20\n",
    "lr = 1e-4\n",
    "batch_size = 512\n",
    "\n",
    "# model parameters\n",
    "embedding_dim = 256\n",
    "hidden_size = 128\n",
    "n_layers = 3\n",
    "\n",
    "model = SentimentLSTM(len(vocab), embedding_dim, hidden_size, n_layers, 3)\n",
    "\n",
    "losses = {\"train\": [], \"validation\": []}\n",
    "accuracies = {\"train\": [], \"validation\": []}\n",
    "\n",
    "train_loader = DataLoader(train_dataset, batch_size=batch_size, shuffle=True, collate_fn=collate)\n",
    "validation_loader = DataLoader(test_dataset, batch_size=batch_size, shuffle=True, collate_fn=collate)\n",
    "\n",
    "criterion = nn.CrossEntropyLoss()\n",
    "optimizer_sparse = optim.SparseAdam(model.embedding.parameters(), lr=lr)\n",
    "optimizer_dense = optim.Adam(model.dense_parameters(), lr=lr)\n",
    "\n",
    "model = model.to(device)"
   ]
  },
  {
   "cell_type": "code",
   "execution_count": 27,
   "id": "f296b1c3",
   "metadata": {},
   "outputs": [
    {
     "name": "stdout",
     "output_type": "stream",
     "text": [
      "epoch:0 train_loss: 1.1038; train_acc: 0.5000\n",
      "epoch:0 validation_loss: 1.1203; validation_acc: 0.3333\n",
      "epoch:1 train_loss: 0.9223; train_acc: 0.6250\n",
      "epoch:1 validation_loss: 1.1332; validation_acc: 0.0000\n",
      "epoch:2 train_loss: 0.9955; train_acc: 0.5000\n",
      "epoch:2 validation_loss: 1.1262; validation_acc: 0.0000\n",
      "epoch:3 train_loss: 1.3479; train_acc: 0.2500\n",
      "epoch:3 validation_loss: 1.0920; validation_acc: 0.6667\n",
      "epoch:4 train_loss: 1.0519; train_acc: 0.5000\n",
      "epoch:4 validation_loss: 1.0944; validation_acc: 0.0000\n",
      "epoch:5 train_loss: 1.1653; train_acc: 0.2500\n",
      "epoch:5 validation_loss: 1.0981; validation_acc: 0.3333\n",
      "epoch:6 train_loss: 1.1428; train_acc: 0.3750\n",
      "epoch:6 validation_loss: 1.1154; validation_acc: 0.0000\n",
      "epoch:7 train_loss: 1.1496; train_acc: 0.3750\n",
      "epoch:7 validation_loss: 1.0780; validation_acc: 0.3333\n",
      "epoch:8 train_loss: 1.3012; train_acc: 0.2500\n",
      "epoch:8 validation_loss: 1.0894; validation_acc: 0.6667\n",
      "epoch:9 train_loss: 1.1920; train_acc: 0.5000\n",
      "epoch:9 validation_loss: 1.0594; validation_acc: 0.6667\n",
      "epoch:10 train_loss: 1.3011; train_acc: 0.1250\n",
      "epoch:10 validation_loss: 1.1353; validation_acc: 0.3333\n",
      "epoch:11 train_loss: 1.5416; train_acc: 0.1250\n",
      "epoch:11 validation_loss: 1.0621; validation_acc: 0.6667\n",
      "epoch:12 train_loss: 1.0715; train_acc: 0.3750\n",
      "epoch:12 validation_loss: 1.1113; validation_acc: 0.0000\n",
      "epoch:13 train_loss: 0.9161; train_acc: 0.6250\n",
      "epoch:13 validation_loss: 1.0842; validation_acc: 0.3333\n",
      "epoch:14 train_loss: 1.0974; train_acc: 0.2500\n",
      "epoch:14 validation_loss: 1.0907; validation_acc: 0.3333\n",
      "epoch:15 train_loss: 1.1518; train_acc: 0.2500\n",
      "epoch:15 validation_loss: 1.0879; validation_acc: 0.0000\n",
      "epoch:16 train_loss: 0.9516; train_acc: 0.3750\n",
      "epoch:16 validation_loss: 1.1352; validation_acc: 0.3333\n",
      "epoch:17 train_loss: 1.1415; train_acc: 0.3750\n",
      "epoch:17 validation_loss: 1.1292; validation_acc: 0.6667\n",
      "epoch:18 train_loss: 1.0683; train_acc: 0.5000\n",
      "epoch:18 validation_loss: 1.1103; validation_acc: 0.3333\n",
      "epoch:19 train_loss: 1.0541; train_acc: 0.7500\n",
      "epoch:19 validation_loss: 1.1001; validation_acc: 0.3333\n"
     ]
    }
   ],
   "source": [
    "for n in range(n_epoch):\n",
    "    epoch_loss = []\n",
    "    epoch_acc = []\n",
    "    for encoded_text, lengths, labels in train_loader:\n",
    "        model = model.train()\n",
    "        optimizer_dense.zero_grad()\n",
    "        optimizer_sparse.zero_grad()\n",
    "\n",
    "    encoded_text, lengths, labels = encoded_text.to(device), lengths.to(device), labels.to(device)\n",
    "    y_pred = model(encoded_text, lengths)\n",
    "    loss = criterion(y_pred, labels)\n",
    "\n",
    "    loss.backward()\n",
    "    optimizer_sparse.step()\n",
    "    optimizer_dense.step()\n",
    "\n",
    "    epoch_loss.append(loss.item())\n",
    "    acc = accuracy_score(labels.detach().cpu(), y_pred.argmax(1).detach().cpu())\n",
    "    epoch_acc.append(acc)\n",
    "\n",
    "    avg_loss = (sum(epoch_loss) / len(epoch_loss))\n",
    "    avg_acc = (sum(epoch_acc) / len(epoch_acc))\n",
    "    print(f\"epoch:{n} train_loss: {avg_loss:.4f}; train_acc: {avg_acc:.4f}\")\n",
    "    losses[\"train\"].append(avg_loss)\n",
    "    accuracies[\"train\"].append(avg_acc)\n",
    "\n",
    "    epoch_loss = []\n",
    "    epoch_acc = []\n",
    "    with torch.no_grad():\n",
    "        for encoded_text, lengths, labels in validation_loader:\n",
    "            model = model.eval()\n",
    "\n",
    "    encoded_text, lengths, labels = encoded_text.to(device), lengths.to(device), labels.to(device)\n",
    "    y_pred = model(encoded_text, lengths)\n",
    "    loss = criterion(y_pred, labels)\n",
    "\n",
    "    epoch_loss.append(loss.item())\n",
    "    acc = accuracy_score(labels.detach().cpu(), y_pred.argmax(1).detach().cpu())\n",
    "    epoch_acc.append(acc)\n",
    "\n",
    "    avg_loss = (sum(epoch_loss) / len(epoch_loss))\n",
    "    avg_acc = (sum(epoch_acc) / len(epoch_acc))\n",
    "    print(f\"epoch:{n} validation_loss: {avg_loss:.4f}; validation_acc: {avg_acc:.4f}\")\n",
    "    losses[\"validation\"].append(avg_loss)\n",
    "    accuracies[\"validation\"].append(avg_acc)"
   ]
  },
  {
   "cell_type": "code",
   "execution_count": null,
   "id": "9a4070bf",
   "metadata": {},
   "outputs": [],
   "source": []
  }
 ],
 "metadata": {
  "kernelspec": {
   "display_name": "Python 3 (ipykernel)",
   "language": "python",
   "name": "python3"
  },
  "language_info": {
   "codemirror_mode": {
    "name": "ipython",
    "version": 3
   },
   "file_extension": ".py",
   "mimetype": "text/x-python",
   "name": "python",
   "nbconvert_exporter": "python",
   "pygments_lexer": "ipython3",
   "version": "3.9.7"
  }
 },
 "nbformat": 4,
 "nbformat_minor": 5
}
